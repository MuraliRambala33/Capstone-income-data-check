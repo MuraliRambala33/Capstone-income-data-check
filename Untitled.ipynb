{
 "cells": [
  {
   "cell_type": "code",
   "execution_count": 1,
   "metadata": {},
   "outputs": [],
   "source": [
    "import pandas as pd\n",
    "df_income = pd.read_csv(r\"C:\\train.csv\")"
   ]
  },
  {
   "cell_type": "code",
   "execution_count": 3,
   "metadata": {},
   "outputs": [
    {
     "data": {
      "text/plain": [
       "Index(['age', 'class_of_worker', 'industry_code', 'occupation_code',\n",
       "       'education', 'wage_per_hour', 'enrolled_in_edu_inst_lastwk',\n",
       "       'marital_status', 'major_industry_code', 'major_occupation_code',\n",
       "       'race', 'hispanic_origin', 'sex', 'member_of_labor_union',\n",
       "       'reason_for_unemployment', 'full_parttime_employment_stat',\n",
       "       'capital_gains', 'capital_losses', 'dividend_from_Stocks',\n",
       "       'tax_filer_status', 'region_of_previous_residence',\n",
       "       'state_of_previous_residence', 'd_household_family_stat',\n",
       "       'd_household_summary', 'migration_msa', 'migration_reg',\n",
       "       'migration_within_reg', 'live_1_year_ago', 'migration_sunbelt',\n",
       "       'num_person_Worked_employer', 'family_members_under_18',\n",
       "       'country_father', 'country_mother', 'country_self', 'citizenship',\n",
       "       'business_or_self_employed', 'fill_questionnaire_veteran_admin',\n",
       "       'veterans_benefits', 'weeks_worked_in_year', 'year', 'income_level'],\n",
       "      dtype='object')"
      ]
     },
     "execution_count": 3,
     "metadata": {},
     "output_type": "execute_result"
    }
   ],
   "source": [
    "df_income.columns"
   ]
  },
  {
   "cell_type": "code",
   "execution_count": 4,
   "metadata": {},
   "outputs": [],
   "source": [
    "#selecting wage_per_hour and weeks_worked columns\n",
    "wage_excel =df_income[['wage_per_hour','weeks_worked_in_year','income_level']]"
   ]
  },
  {
   "cell_type": "code",
   "execution_count": 15,
   "metadata": {},
   "outputs": [],
   "source": [
    "# selecting dataframe with low income_level\n",
    "low_income_level=wage_excel[wage_excel['income_level']== -50000]"
   ]
  },
  {
   "cell_type": "code",
   "execution_count": 35,
   "metadata": {},
   "outputs": [
    {
     "data": {
      "text/plain": [
       "(12382, 3)"
      ]
     },
     "execution_count": 35,
     "metadata": {},
     "output_type": "execute_result"
    }
   ],
   "source": [
    "# selecting dataframe with high income_level\n",
    "high_income_level=wage_excel[wage_excel['income_level']== 50000]\n",
    "high_income_level.shape"
   ]
  },
  {
   "cell_type": "code",
   "execution_count": 16,
   "metadata": {},
   "outputs": [
    {
     "data": {
      "text/plain": [
       "(187141, 3)"
      ]
     },
     "execution_count": 16,
     "metadata": {},
     "output_type": "execute_result"
    }
   ],
   "source": [
    "low_income_level.shape"
   ]
  },
  {
   "cell_type": "code",
   "execution_count": 30,
   "metadata": {},
   "outputs": [
    {
     "data": {
      "text/plain": [
       "(10748, 3)"
      ]
     },
     "execution_count": 30,
     "metadata": {},
     "output_type": "execute_result"
    }
   ],
   "source": [
    "# income geting per year in low level income\n",
    "df_low_value=low_income_level['wage_per_hour']*44*52\n",
    "df_low_value=low_income_level[low_income_level['wage_per_hour']!=0]\n",
    "df_low_value.shape"
   ]
  },
  {
   "cell_type": "code",
   "execution_count": 39,
   "metadata": {},
   "outputs": [
    {
     "data": {
      "text/plain": [
       "(556, 3)"
      ]
     },
     "execution_count": 39,
     "metadata": {},
     "output_type": "execute_result"
    }
   ],
   "source": [
    "# income geting per year in high level income\n",
    "df_high_value=high_income_level['wage_per_hour']*44*52\n",
    "df_high_value=high_income_level[high_income_level['wage_per_hour']!=0]\n",
    "df_high_value.shape"
   ]
  },
  {
   "cell_type": "code",
   "execution_count": 40,
   "metadata": {},
   "outputs": [
    {
     "data": {
      "text/plain": [
       "(11826, 3)"
      ]
     },
     "execution_count": 40,
     "metadata": {},
     "output_type": "execute_result"
    }
   ],
   "source": [
    "# no income geting per year in high level income\n",
    "df_high_value_noincome=high_income_level[high_income_level['wage_per_hour']==0]\n",
    "df_high_value_noincome.shape"
   ]
  },
  {
   "cell_type": "code",
   "execution_count": 17,
   "metadata": {},
   "outputs": [],
   "source": [
    "# selecting dataframe with high income_level\n",
    "high_income_level=wage_excel[wage_excel['income_level']== 50000] "
   ]
  },
  {
   "cell_type": "code",
   "execution_count": 18,
   "metadata": {},
   "outputs": [
    {
     "data": {
      "text/plain": [
       "(12382, 3)"
      ]
     },
     "execution_count": 18,
     "metadata": {},
     "output_type": "execute_result"
    }
   ],
   "source": [
    "high_income_level.shape"
   ]
  },
  {
   "cell_type": "code",
   "execution_count": null,
   "metadata": {},
   "outputs": [],
   "source": [
    "high"
   ]
  }
 ],
 "metadata": {
  "kernelspec": {
   "display_name": "Python 3",
   "language": "python",
   "name": "python3"
  },
  "language_info": {
   "codemirror_mode": {
    "name": "ipython",
    "version": 3
   },
   "file_extension": ".py",
   "mimetype": "text/x-python",
   "name": "python",
   "nbconvert_exporter": "python",
   "pygments_lexer": "ipython3",
   "version": "3.7.6"
  }
 },
 "nbformat": 4,
 "nbformat_minor": 4
}
